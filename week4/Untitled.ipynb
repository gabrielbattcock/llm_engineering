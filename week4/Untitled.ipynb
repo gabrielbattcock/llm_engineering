{
 "cells": [
  {
   "cell_type": "code",
   "execution_count": 2,
   "id": "a8feeb05-88d3-4160-a785-6d559ebefd94",
   "metadata": {},
   "outputs": [],
   "source": [
    "# imports\n",
    "\n",
    "import os\n",
    "import io\n",
    "import sys\n",
    "from dotenv import load_dotenv\n",
    "from openai import OpenAI\n",
    "import google.generativeai\n",
    "import anthropic\n",
    "import ollama\n",
    "from IPython.display import Markdown, display, update_display\n",
    "import gradio as gr\n",
    "import subprocess"
   ]
  },
  {
   "cell_type": "code",
   "execution_count": 21,
   "id": "75472529-0ca3-41d7-8471-bbf41cb3b7ca",
   "metadata": {},
   "outputs": [],
   "source": [
    "# constants\n",
    "\n",
    "MODEL_GPT = 'gpt-4o-mini'\n",
    "MODEL_LLAMA = 'codellama'\n",
    "MODEL_ANTHROPIC = 'claude-3-7-sonnet-latest'"
   ]
  },
  {
   "cell_type": "code",
   "execution_count": 4,
   "id": "83fed1c5-ff8c-4563-952d-4bd379145fc9",
   "metadata": {},
   "outputs": [
    {
     "name": "stdout",
     "output_type": "stream",
     "text": [
      "OpenAI API Key exists and begins sk-proj-\n",
      "Anthropic API Key exists and begins sk-ant-\n",
      "API key looks good so far\n"
     ]
    }
   ],
   "source": [
    "# set up environment\n",
    "\n",
    "load_dotenv(override=True)\n",
    "api_key = os.getenv('OPENAI_API_KEY')\n",
    "\n",
    "\n",
    "openai_api_key = os.getenv('OPENAI_API_KEY')\n",
    "anthropic_api_key = os.getenv('ANTHROPIC_API_KEY')\n",
    "\n",
    "if openai_api_key:\n",
    "    print(f\"OpenAI API Key exists and begins {openai_api_key[:8]}\")\n",
    "else:\n",
    "    print(\"OpenAI API Key not set\")\n",
    "    \n",
    "if anthropic_api_key:\n",
    "    print(f\"Anthropic API Key exists and begins {anthropic_api_key[:7]}\")\n",
    "else:\n",
    "    print(\"Anthropic API Key not set\")\n",
    "\n",
    "if api_key and api_key.startswith('sk-proj-') and len(api_key)>10:\n",
    "    print(\"API key looks good so far\")\n",
    "else:\n",
    "    print(\"There might be a problem with your API key? Please visit the troubleshooting notebook!\")\n",
    "\n",
    "\n",
    "# Connect to OpenAI, Anthropic and ollama\n",
    "\n",
    "openai = OpenAI()\n",
    "\n",
    "claude = anthropic.Anthropic()\n",
    "\n",
    "ollama_via_openai = OpenAI(base_url='http://localhost:11434/v1', api_key='ollama')"
   ]
  },
  {
   "cell_type": "code",
   "execution_count": 5,
   "id": "3fba4d47-6800-4499-a3c2-7dcb214d2249",
   "metadata": {},
   "outputs": [],
   "source": [
    "system_message = \"You are an assistant that provides useful comments and docstring for Python code \"\n",
    "system_message += \"Respond only with python code plus the comment; do not over comment\"\n",
    "system_message += \"This needs to help more users understand what is happening in my code\""
   ]
  },
  {
   "cell_type": "code",
   "execution_count": 6,
   "id": "8dcded43-dc30-4e87-9539-e965ded7200f",
   "metadata": {},
   "outputs": [],
   "source": [
    "def user_prompt_for(python):\n",
    "    user_prompt = \"Rewrite this Python code with comments to let other users know what is happening. \"\n",
    "    user_prompt += \"Respond only with python code; Do not provide any other words than the code and the comments in code. \\n\\n \"\n",
    "\n",
    "    user_prompt += python\n",
    "    return user_prompt"
   ]
  },
  {
   "cell_type": "code",
   "execution_count": 7,
   "id": "9c77fe2c-febd-4a5c-898f-94d1485b8bd2",
   "metadata": {},
   "outputs": [],
   "source": [
    "def messages_for(python):\n",
    "    return [\n",
    "        {\"role\": \"system\", \"content\": system_message},\n",
    "        {\"role\": \"user\", \"content\": user_prompt_for(python)}\n",
    "    ]"
   ]
  },
  {
   "cell_type": "code",
   "execution_count": 17,
   "id": "cc89ad69-6ace-4dcc-b6f0-1faebbb4dac0",
   "metadata": {},
   "outputs": [],
   "source": [
    "def optimize_gpt(python):    \n",
    "    stream = openai.chat.completions.create(\n",
    "        model=MODEL_GPT, \n",
    "        messages=messages_for(python), \n",
    "        stream=True)\n",
    "    reply = \"\"\n",
    "    for chunk in stream:\n",
    "        fragment = chunk.choices[0].delta.content or \"\"\n",
    "        reply += fragment\n",
    "        print(fragment, end='', flush=True)\n",
    "    # write_output(reply)"
   ]
  },
  {
   "cell_type": "code",
   "execution_count": 18,
   "id": "9558a29b-64fc-4847-b27f-41fe6c0e8abe",
   "metadata": {},
   "outputs": [],
   "source": [
    "def optimize_claude(python):\n",
    "    result = claude.messages.stream(\n",
    "        model=MODEL_ANTHROPIC,\n",
    "        max_tokens=2000,\n",
    "        system=system_message,\n",
    "        messages=[{\"role\": \"user\", \"content\": user_prompt_for(python)}],\n",
    "    )\n",
    "    reply = \"\"\n",
    "    with result as stream:\n",
    "        for text in stream.text_stream:\n",
    "            reply += text\n",
    "            print(text, end=\"\", flush=True)\n",
    "    # write_output(reply)"
   ]
  },
  {
   "cell_type": "code",
   "execution_count": 22,
   "id": "d265932f-23c7-4086-9012-885ad9e3ec29",
   "metadata": {},
   "outputs": [],
   "source": [
    "def optimize_llama(python):\n",
    "    stream = ollama_via_openai.chat.completions.create(\n",
    "        model=MODEL_LLAMA, # model is defined above\n",
    "        messages=messages_for(python),\n",
    "        stream=True\n",
    "    )\n",
    "    reply = \"\"\n",
    "    for chunk in stream:\n",
    "        fragment = chunk.choices[0].delta.content or \"\"\n",
    "        reply += fragment\n",
    "        print(fragment, end='', flush=True)"
   ]
  },
  {
   "cell_type": "code",
   "execution_count": 11,
   "id": "5ac66a5c-fea5-4c34-ad7f-b8f54e43891a",
   "metadata": {},
   "outputs": [],
   "source": [
    "pi = \"\"\"\n",
    "import time\n",
    "\n",
    "def calculate(iterations, param1, param2):\n",
    "    result = 1.0\n",
    "    for i in range(1, iterations+1):\n",
    "        j = i * param1 - param2\n",
    "        result -= (1/j)\n",
    "        j = i * param1 + param2\n",
    "        result += (1/j)\n",
    "    return result\n",
    "\n",
    "start_time = time.time()\n",
    "result = calculate(100_000_000, 4, 1) * 4\n",
    "end_time = time.time()\n",
    "\n",
    "print(f\"Result: {result:.12f}\")\n",
    "print(f\"Execution Time: {(end_time - start_time):.6f} seconds\")\n",
    "\"\"\""
   ]
  },
  {
   "cell_type": "code",
   "execution_count": null,
   "id": "7d0ae479-066d-4f1d-bbef-a1eafc745831",
   "metadata": {},
   "outputs": [
    {
     "name": "stdout",
     "output_type": "stream",
     "text": [
      "```\n",
      "import time\n",
      "\n"
     ]
    }
   ],
   "source": [
    "optimize_llama(pi)"
   ]
  },
  {
   "cell_type": "code",
   "execution_count": 20,
   "id": "697f13f5-4a52-47d9-8f3b-ba3b12aaeb2f",
   "metadata": {},
   "outputs": [
    {
     "name": "stdout",
     "output_type": "stream",
     "text": [
      "```python\n",
      "import time  # Import the time module to measure execution time\n",
      "\n",
      "def calculate(iterations, param1, param2):\n",
      "    result = 1.0  # Initialize the result variable\n",
      "    # Loop through a range of iterations\n",
      "    for i in range(1, iterations + 1):\n",
      "        j = i * param1 - param2  # Calculate j based on the current iteration\n",
      "        result -= (1 / j)  # Update result by subtracting the inverse of j\n",
      "        j = i * param1 + param2  # Calculate j with a different operation\n",
      "        result += (1 / j)  # Update result by adding the inverse of the new j\n",
      "    return result  # Return the final computed result\n",
      "\n",
      "start_time = time.time()  # Record the start time\n",
      "result = calculate(100_000_000, 4, 1) * 4  # Call the calculate function with large iterations and scale the result\n",
      "end_time = time.time()  # Record the end time\n",
      "\n",
      "# Print the formatted result and the total execution time\n",
      "print(f\"Result: {result:.12f}\")\n",
      "print(f\"Execution Time: {(end_time - start_time):.6f} seconds\")\n",
      "```"
     ]
    }
   ],
   "source": [
    "optimize_gpt(pi)"
   ]
  },
  {
   "cell_type": "code",
   "execution_count": null,
   "id": "8faf3046-b8a5-47ea-a991-de6a7938af0c",
   "metadata": {},
   "outputs": [],
   "source": []
  }
 ],
 "metadata": {
  "kernelspec": {
   "display_name": "Python 3 (ipykernel)",
   "language": "python",
   "name": "python3"
  },
  "language_info": {
   "codemirror_mode": {
    "name": "ipython",
    "version": 3
   },
   "file_extension": ".py",
   "mimetype": "text/x-python",
   "name": "python",
   "nbconvert_exporter": "python",
   "pygments_lexer": "ipython3",
   "version": "3.11.12"
  }
 },
 "nbformat": 4,
 "nbformat_minor": 5
}
