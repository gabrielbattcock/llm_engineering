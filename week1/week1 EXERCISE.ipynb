{
 "cells": [
  {
   "cell_type": "markdown",
   "id": "fe12c203-e6a6-452c-a655-afb8a03a4ff5",
   "metadata": {},
   "source": [
    "# End of week 1 exercise\n",
    "\n",
    "To demonstrate your familiarity with OpenAI API, and also Ollama, build a tool that takes a technical question,  \n",
    "and responds with an explanation. This is a tool that you will be able to use yourself during the course!"
   ]
  },
  {
   "cell_type": "code",
   "execution_count": 21,
   "id": "c1070317-3ed9-4659-abe3-828943230e03",
   "metadata": {},
   "outputs": [],
   "source": [
    "# imports\n",
    "\n",
    "import os\n",
    "import requests\n",
    "import json\n",
    "from typing import List\n",
    "from dotenv import load_dotenv\n",
    "from bs4 import BeautifulSoup\n",
    "from IPython.display import Markdown, display, update_display\n",
    "from openai import OpenAI\n",
    "import ollama\n"
   ]
  },
  {
   "cell_type": "code",
   "execution_count": 22,
   "id": "4a456906-915a-4bfd-bb9d-57e505c5093f",
   "metadata": {},
   "outputs": [],
   "source": [
    "# constants\n",
    "\n",
    "MODEL_GPT = 'gpt-4o-mini'\n",
    "MODEL_LLAMA = 'llama3.2'\n"
   ]
  },
  {
   "cell_type": "code",
   "execution_count": 28,
   "id": "a8d7923c-5f28-4c30-8556-342d7c8497c1",
   "metadata": {},
   "outputs": [
    {
     "name": "stdout",
     "output_type": "stream",
     "text": [
      "API key looks good so far\n"
     ]
    }
   ],
   "source": [
    "# set up environment\n",
    "\n",
    "load_dotenv(override=True)\n",
    "api_key = os.getenv('OPENAI_API_KEY')\n",
    "\n",
    "if api_key and api_key.startswith('sk-proj-') and len(api_key)>10:\n",
    "    print(\"API key looks good so far\")\n",
    "else:\n",
    "    print(\"There might be a problem with your API key? Please visit the troubleshooting notebook!\")\n",
    "\n",
    "openai = OpenAI()\n",
    "ollama_via_openai = OpenAI(base_url='http://localhost:11434/v1', api_key='ollama')"
   ]
  },
  {
   "cell_type": "code",
   "execution_count": 24,
   "id": "3f0d0137-52b0-47a8-81a8-11a90a010798",
   "metadata": {},
   "outputs": [],
   "source": [
    "# here is the question; type over this to ask something new\n",
    "\n",
    "def question():\n",
    "    return input(\"Ask you question: \")"
   ]
  },
  {
   "cell_type": "code",
   "execution_count": 25,
   "id": "3a56b943-a5b5-4767-a0a3-53e7e2b71df9",
   "metadata": {},
   "outputs": [],
   "source": [
    "system_prompt = \"\"\"\n",
    "You are an expert in llm and generative AI engineering who is tutoring a new student. You will receive a technical question,\n",
    "and respond with a useful explanation \\n\n",
    "around this subject. Please respond to factual questions with the answer but to questions that might require true understadning with \\n\n",
    "hints of how to approach the problem. Please also resond in markdown.\n",
    "\"\"\"\n"
   ]
  },
  {
   "cell_type": "code",
   "execution_count": 14,
   "id": "60ce7000-a4a5-4cce-a261-e75ef45063b4",
   "metadata": {},
   "outputs": [],
   "source": [
    "# Get gpt-4o-mini to answer, with streaming\n",
    "\n",
    "def gpt_tutor():\n",
    "    stream = openai.chat.completions.create(\n",
    "        model=MODEL_GPT,\n",
    "        messages=[\n",
    "            {\"role\": \"system\", \"content\": system_prompt},\n",
    "            {\"role\": \"user\", \"content\": question()}\n",
    "          ],\n",
    "        stream=True\n",
    "    )\n",
    "    \n",
    "    response = \"\"\n",
    "    display_handle = display(Markdown(\"\"), display_id=True)\n",
    "    for chunk in stream:\n",
    "        response += chunk.choices[0].delta.content or ''\n",
    "        response = response.replace(\"```\",\"\").replace(\"markdown\", \"\")\n",
    "        update_display(Markdown(response), display_id=display_handle.display_id)"
   ]
  },
  {
   "cell_type": "code",
   "execution_count": 15,
   "id": "29c93751-563a-4ce6-9962-dd7fd0bc7ecb",
   "metadata": {},
   "outputs": [
    {
     "name": "stdin",
     "output_type": "stream",
     "text": [
      "Ask you question:  what does the 'yield' keyword do in python\n"
     ]
    },
    {
     "data": {
      "text/markdown": [
       "The `yield` keyword in Python is used in the context of creating a generator. A generator is a special type of iterable that allows you to iterate over its values one at a time, instead of computing all of them at once and storing them in memory. The `yield` keyword is what makes a function a generator function.\n",
       "\n",
       "### Key Points about `yield`:\n",
       "\n",
       "- **Pause Execution**: When a generator function calls `yield`, it pauses the function's execution and sends the value back to the caller. When the generator is called again, it resumes execution right after the last `yield` statement.\n",
       "  \n",
       "- **State Retention**: The function retains its state between yields. This means that local variables in the generator function maintain their values across multiple calls.\n",
       "\n",
       "- **Efficiency**: Generators can be more memory-efficient than regular functions that return lists because they produce items one at a time and do not require the entire output to be stored in memory.\n",
       "\n",
       "### Example of `yield`:\n",
       "\n",
       "Here’s a simple example to illustrate how `yield` works:\n",
       "\n",
       "python\n",
       "def count_up_to(n):\n",
       "    count = 1\n",
       "    while count <= n:\n",
       "        yield count\n",
       "        count += 1\n",
       "\n",
       "# Using the generator\n",
       "counter = count_up_to(5)\n",
       "\n",
       "for number in counter:\n",
       "    print(number)\n",
       "\n",
       "\n",
       "### Explanation of the Example:\n",
       "\n",
       "1. **Function Definition**: The function `count_up_to(n)` is defined as a generator function because it contains a `yield` statement.\n",
       "   \n",
       "2. **Yielding Values**: When you call `counter = count_up_to(5)`, the function does not execute right away. Instead, it returns a generator object. The main execution starts when you iterate over `counter` with a `for` loop.\n",
       "\n",
       "3. **Resuming Execution**: Each time the loop fetches a value from the generator, the function resumes from the last `yield` statement, increments the count, and yields the next value.\n",
       "\n",
       "### Approaching Questions About `yield`:\n",
       "\n",
       "1. **Think About State**: When you see `yield`, consider how the state and variables in the function are retained across calls. Ask yourself how many times the function can be resumed and under what conditions.\n",
       "\n",
       "2. **Comparisons with Lists**: Compare how using `yield` creates a generator versus a function that builds and returns a list. Understand the trade-offs regarding memory usage and performance.\n",
       "\n",
       "3. **Experiment**: Try modifying a generator function by adding more `yield` statements or incorporating conditionals. Observe the changes in behavior and how they affect iteration.\n",
       "\n",
       "By examining these aspects, you can deepen your understanding of how `yield` works and its practical applications in Python programming!"
      ],
      "text/plain": [
       "<IPython.core.display.Markdown object>"
      ]
     },
     "metadata": {},
     "output_type": "display_data"
    }
   ],
   "source": [
    "gpt_tutor()"
   ]
  },
  {
   "cell_type": "code",
   "execution_count": 33,
   "id": "8f7c8ea8-4082-4ad0-8751-3301adcf6538",
   "metadata": {},
   "outputs": [],
   "source": [
    "# Get Llama 3.2 to answer\n",
    "\n",
    "def ollama_tutor():\n",
    "    \n",
    "    \n",
    "    # change the resoonse api used\n",
    "    response = ollama_via_openai.chat.completions.create(\n",
    "        model=MODEL_LLAMA, # model is defined above\n",
    "        messages=[\n",
    "            {\"role\": \"system\", \"content\": system_prompt},\n",
    "            {\"role\": \"user\", \"content\": question()}\n",
    "          ] # \n",
    "    )\n",
    "\n",
    "    result = response.choices[0].message.content\n",
    "    display(Markdown(result))"
   ]
  },
  {
   "cell_type": "code",
   "execution_count": 34,
   "id": "34d07b87-6872-4845-999d-05f95f74d0fc",
   "metadata": {},
   "outputs": [
    {
     "name": "stdin",
     "output_type": "stream",
     "text": [
      "Ask you question:  what does the 'yield' keyword do in python\n"
     ]
    },
    {
     "data": {
      "text/markdown": [
       "### The `yield` Keyword in Python\n",
       "=====================================\n",
       "\n",
       "The `yield` keyword is a special syntax in Python that allows a function to produce a value over time, instead of computing it all at once and returning it in a list or other data structure. This is also known as \"lazy evaluation\" because the computation doesn't happen until the values are actually needed.\n",
       "\n",
       "### How `yield` Works\n",
       "--------------------\n",
       "\n",
       "When a function contains a `yield` statement, it becomes a generator function. Here's an example:\n",
       "```python\n",
       "def my_gen():\n",
       "    yield 1\n",
       "    yield 2\n",
       "    yield 3\n",
       "\n",
       "# Create a generator object\n",
       "gen = my_gen()\n",
       "\n",
       "# Get the next value from the generator\n",
       "print(next(gen))  # Output: 1\n",
       "print(next(gen))  # Output: 2\n",
       "print(next(gen))  # Output: 3\n",
       "```\n",
       "In this example, `my_gen` is a generator function that yields three values. We create a generator object by calling the function and storing it in the `gen` variable. Then we use the `next()` function to retrieve each value from the generator one at a time.\n",
       "\n",
       "### Benefits of Using `yield`\n",
       "---------------------------\n",
       "\n",
       "Here are some benefits of using `yield`:\n",
       "\n",
       "*   **Efficient memory usage**: Because generators only compute values when they're needed, they can save a lot of memory compared to pre-computing and storing all the values in a list or other data structure.\n",
       "*   **Flexible iteration**: Generators allow you to control the iteration process more precisely than with traditional lists or tuples.\n",
       "\n",
       "### Example Use Case\n",
       "--------------------\n",
       "\n",
       "Here's an example of using `yield` to implement a Fibonacci sequence generator:\n",
       "```python\n",
       "def fibonacci():\n",
       "    a, b = 0, 1\n",
       "    while True:\n",
       "        yield a\n",
       "        a, b = b, a + b\n",
       "\n",
       "# Create a generator object\n",
       "fib_gen = fibonacci()\n",
       "\n",
       "# Get the first few values from the generator\n",
       "for _ in range(10):\n",
       "    print(next(fib_gen))\n",
       "```\n",
       "This code defines a `fibonacci` function that generates the Fibonacci sequence on-the-fly. We create a generator object by calling the function and then use a loop to retrieve each value from the generator.\n",
       "\n",
       "### Tips and Best Practices\n",
       "---------------------------\n",
       "\n",
       "*   Make sure you understand the difference between mutable and immutable collections in Python.\n",
       "*   Use `yield` when you need to generate values on-the-fly, rather than pre-computing them all at once.\n",
       "*   Experiment with different use cases for `yield`, such as handling large datasets or optimizing performance.\n",
       "\n",
       "I hope this explanation helps! Do you have any specific questions about using `yield` in Python?"
      ],
      "text/plain": [
       "<IPython.core.display.Markdown object>"
      ]
     },
     "metadata": {},
     "output_type": "display_data"
    }
   ],
   "source": [
    "ollama_tutor()"
   ]
  },
  {
   "cell_type": "code",
   "execution_count": null,
   "id": "56c53a3c-bdc4-492d-b663-fc756739acb5",
   "metadata": {},
   "outputs": [],
   "source": []
  }
 ],
 "metadata": {
  "kernelspec": {
   "display_name": "Python 3 (ipykernel)",
   "language": "python",
   "name": "python3"
  },
  "language_info": {
   "codemirror_mode": {
    "name": "ipython",
    "version": 3
   },
   "file_extension": ".py",
   "mimetype": "text/x-python",
   "name": "python",
   "nbconvert_exporter": "python",
   "pygments_lexer": "ipython3",
   "version": "3.11.12"
  }
 },
 "nbformat": 4,
 "nbformat_minor": 5
}
