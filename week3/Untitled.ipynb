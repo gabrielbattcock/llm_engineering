{
 "cells": [
  {
   "cell_type": "code",
   "execution_count": 1,
   "id": "a9576f8e-1f6f-4e10-9b83-3793835b7d68",
   "metadata": {},
   "outputs": [],
   "source": [
    "# imports\n",
    "\n",
    "import os\n",
    "import requests\n",
    "import json\n",
    "from typing import List\n",
    "from dotenv import load_dotenv\n",
    "from bs4 import BeautifulSoup\n",
    "from IPython.display import Markdown, display, update_display\n",
    "from openai import OpenAI\n",
    "import ollama\n",
    "import anthropic\n",
    "import gradio as gr"
   ]
  },
  {
   "cell_type": "code",
   "execution_count": 2,
   "id": "95eec0ea-561c-4cd1-9ec7-798f7d39120f",
   "metadata": {},
   "outputs": [],
   "source": [
    "# constants\n",
    "\n",
    "MODEL_GPT = 'gpt-4o-mini'\n",
    "MODEL_LLAMA = 'llama3.2'\n",
    "MODEL_ANTHROPIC = 'claude-3-7-sonnet-latest'"
   ]
  },
  {
   "cell_type": "code",
   "execution_count": 3,
   "id": "e085f320-b430-4f40-b4df-d7db80253c04",
   "metadata": {},
   "outputs": [
    {
     "name": "stdout",
     "output_type": "stream",
     "text": [
      "OpenAI API Key exists and begins sk-proj-\n",
      "Anthropic API Key exists and begins sk-ant-\n",
      "API key looks good so far\n"
     ]
    }
   ],
   "source": [
    "# set up environment\n",
    "\n",
    "load_dotenv(override=True)\n",
    "api_key = os.getenv('OPENAI_API_KEY')\n",
    "\n",
    "\n",
    "openai_api_key = os.getenv('OPENAI_API_KEY')\n",
    "anthropic_api_key = os.getenv('ANTHROPIC_API_KEY')\n",
    "\n",
    "if openai_api_key:\n",
    "    print(f\"OpenAI API Key exists and begins {openai_api_key[:8]}\")\n",
    "else:\n",
    "    print(\"OpenAI API Key not set\")\n",
    "    \n",
    "if anthropic_api_key:\n",
    "    print(f\"Anthropic API Key exists and begins {anthropic_api_key[:7]}\")\n",
    "else:\n",
    "    print(\"Anthropic API Key not set\")\n",
    "\n",
    "if api_key and api_key.startswith('sk-proj-') and len(api_key)>10:\n",
    "    print(\"API key looks good so far\")\n",
    "else:\n",
    "    print(\"There might be a problem with your API key? Please visit the troubleshooting notebook!\")\n",
    "\n",
    "\n",
    "# Connect to OpenAI, Anthropic and ollama\n",
    "\n",
    "openai = OpenAI()\n",
    "\n",
    "claude = anthropic.Anthropic()\n",
    "\n",
    "ollama_via_openai = OpenAI(base_url='http://localhost:11434/v1', api_key='ollama')"
   ]
  },
  {
   "cell_type": "code",
   "execution_count": 4,
   "id": "603db1e6-f240-43c9-8672-02b4d7d892f0",
   "metadata": {},
   "outputs": [],
   "source": [
    "system_prompt = \"\"\"\n",
    "You are helping me in an important data science role where I have to build models based on meta-data without seeing the true data. To test that my models do the correct thing, I\n",
    "need you to generate datasets  when given a description of what they look like. You will respond in either with either a JSON or a CSV depending on what is being asked. If \n",
    "it is unclear what should be the range or type of data in a given column, you should prompt the user to give more information. \n",
    "\"\"\""
   ]
  },
  {
   "cell_type": "code",
   "execution_count": 5,
   "id": "5b35864f-af61-4ab6-bcef-4300885cee0b",
   "metadata": {},
   "outputs": [],
   "source": [
    "\n",
    "def ask_for_dataset():\n",
    "    return input(\"Do you need a dataset?: \")"
   ]
  },
  {
   "cell_type": "code",
   "execution_count": 70,
   "id": "52c7596c-c633-45a3-81b3-71ca225620de",
   "metadata": {},
   "outputs": [],
   "source": [
    "def stream_claude(prompt, history):\n",
    "\n",
    "    \n",
    "    result = claude.messages.stream(\n",
    "        model=\"claude-3-haiku-20240307\",\n",
    "        max_tokens=1000,\n",
    "        temperature=0.7,\n",
    "        system=system_prompt,\n",
    "        messages=[\n",
    "            history + {\"role\": \"user\", \"content\": prompt},\n",
    "        ],\n",
    "    )\n",
    "    response = \"\"\n",
    "    with result as stream:\n",
    "        for text in stream.text_stream:\n",
    "            response += text or \"\"\n",
    "            yield response\n",
    "\n",
    "\n",
    "       "
   ]
  },
  {
   "cell_type": "code",
   "execution_count": 73,
   "id": "67b236fd-597b-4b32-8545-5d75e1549b64",
   "metadata": {},
   "outputs": [],
   "source": [
    "\n",
    "def chat(message, history):\n",
    "    messages = [{\"role\": \"system\", \"content\": system_prompt}] + history + [{\"role\": \"user\", \"content\": message}]\n",
    "\n",
    "    print(\"History is:\")\n",
    "    print(history)\n",
    "    print(\"And messages is:\")\n",
    "    print(messages)\n",
    "\n",
    "    stream = openai.chat.completions.create(model=MODEL_GPT, messages=messages, stream=True)\n",
    "\n",
    "    response = \"\"\n",
    "    for chunk in stream:\n",
    "        response += chunk.choices[0].delta.content or ''\n",
    "        yield response"
   ]
  },
  {
   "cell_type": "code",
   "execution_count": 74,
   "id": "b8f10803-8539-4703-88db-ff483447705d",
   "metadata": {},
   "outputs": [
    {
     "name": "stdout",
     "output_type": "stream",
     "text": [
      "* Running on local URL:  http://127.0.0.1:7887\n",
      "* To create a public link, set `share=True` in `launch()`.\n"
     ]
    },
    {
     "data": {
      "text/html": [
       "<div><iframe src=\"http://127.0.0.1:7887/\" width=\"100%\" height=\"500\" allow=\"autoplay; camera; microphone; clipboard-read; clipboard-write;\" frameborder=\"0\" allowfullscreen></iframe></div>"
      ],
      "text/plain": [
       "<IPython.core.display.HTML object>"
      ]
     },
     "metadata": {},
     "output_type": "display_data"
    },
    {
     "data": {
      "text/plain": []
     },
     "execution_count": 74,
     "metadata": {},
     "output_type": "execute_result"
    },
    {
     "name": "stdout",
     "output_type": "stream",
     "text": [
      "History is:\n",
      "[]\n",
      "And messages is:\n",
      "[{'role': 'system', 'content': '\\nYou are helping me in an important data science role where I have to build models based on meta-data without seeing the true data. To test that my models do the correct thing, I\\nneed you to generate datasets  when given a description of what they look like. You will respond in either with either a JSON or a CSV depending on what is being asked. If \\nit is unclear what should be the range or type of data in a given column, you should prompt the user to give more information. \\n'}, {'role': 'user', 'content': 'hey'}]\n",
      "History is:\n",
      "[{'role': 'user', 'metadata': None, 'content': 'hey', 'options': None}, {'role': 'assistant', 'metadata': None, 'content': \"Hello! How can I assist you today? If you need help generating a dataset, please provide a description of what you're looking for.\", 'options': None}]\n",
      "And messages is:\n",
      "[{'role': 'system', 'content': '\\nYou are helping me in an important data science role where I have to build models based on meta-data without seeing the true data. To test that my models do the correct thing, I\\nneed you to generate datasets  when given a description of what they look like. You will respond in either with either a JSON or a CSV depending on what is being asked. If \\nit is unclear what should be the range or type of data in a given column, you should prompt the user to give more information. \\n'}, {'role': 'user', 'metadata': None, 'content': 'hey', 'options': None}, {'role': 'assistant', 'metadata': None, 'content': \"Hello! How can I assist you today? If you need help generating a dataset, please provide a description of what you're looking for.\", 'options': None}, {'role': 'user', 'content': 'i need a dataset'}]\n"
     ]
    }
   ],
   "source": [
    "gr.ChatInterface(\n",
    "    fn=chat,\n",
    "    type=\"messages\",  # 🚨 critical: this means `fn` receives a list of messages\n",
    "    title=\"Chat with Claude\",\n",
    "    description=\"Talk to Claude 3 Haiku using the Anthropics API\",\n",
    ").launch()"
   ]
  },
  {
   "cell_type": "code",
   "execution_count": null,
   "id": "22088ef9-1da8-4891-af7a-725e2b37e984",
   "metadata": {},
   "outputs": [],
   "source": []
  }
 ],
 "metadata": {
  "kernelspec": {
   "display_name": "Python 3 (ipykernel)",
   "language": "python",
   "name": "python3"
  },
  "language_info": {
   "codemirror_mode": {
    "name": "ipython",
    "version": 3
   },
   "file_extension": ".py",
   "mimetype": "text/x-python",
   "name": "python",
   "nbconvert_exporter": "python",
   "pygments_lexer": "ipython3",
   "version": "3.11.12"
  }
 },
 "nbformat": 4,
 "nbformat_minor": 5
}
